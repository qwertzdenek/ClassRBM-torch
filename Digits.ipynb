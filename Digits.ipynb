{
 "cells": [
  {
   "cell_type": "markdown",
   "metadata": {},
   "source": [
    "Load dataset\n",
    "------------"
   ]
  },
  {
   "cell_type": "code",
   "execution_count": 1,
   "metadata": {
    "collapsed": false
   },
   "outputs": [],
   "source": [
    "mnist = require('mnist')\n",
    "\n",
    "torch.seed()\n",
    "\n",
    "testset = mnist.testdataset()\n",
    "testset['data'] = testset['data']:double():clamp(0,1)"
   ]
  },
  {
   "cell_type": "code",
   "execution_count": 2,
   "metadata": {
    "collapsed": false
   },
   "outputs": [
    {
     "data": {
      "image/png": "[encoded data removed]",
      "text/plain": [
       "Console does not support images"
      ]
     },
     "metadata": {
      "image/png": {
       "height": 300,
       "width": 300
      }
     },
     "output_type": "display_data"
    }
   ],
   "source": [
    "inputs_x = torch.Tensor(100, 28*28)\n",
    "inputs_y = torch.ByteTensor(100)\n",
    "for i=1, 100 do\n",
    "    num = torch.random(testset.size)\n",
    "    inputs_x[i]:copy(testset[num].x)\n",
    "    inputs_y[i] = testset[num].y\n",
    "end\n",
    "\n",
    "wm = image.toDisplayTensor{\n",
    "    input=inputs_x:view(torch.LongStorage{100, 28, 28}),\n",
    "    padding=2, nrow=10}\n",
    "itorch.image(wm)"
   ]
  },
  {
   "cell_type": "markdown",
   "metadata": {},
   "source": [
    "Classify\n",
    "--------"
   ]
  },
  {
   "cell_type": "markdown",
   "metadata": {},
   "source": [
    "We will forward classification RBM with zero class vector and do one step Gibbs sampling from the input digit. Resulting digit class is stored to the *class_y*."
   ]
  },
  {
   "cell_type": "code",
   "execution_count": 3,
   "metadata": {
    "collapsed": false
   },
   "outputs": [
    {
     "data": {
      "text/plain": [
       " 6  0  6  5  9  4  9  8  2  1\n",
       " 5  3  9  5  3  8  4  7  3  7\n",
       " 3  2  3  1  7  1  8  8  4  9\n",
       " 9  2  3  7  1  3  9  0  9  7\n",
       " 2  4  1  8  8  0  0  2  4  6\n",
       " 6  0  3  7  1  6  0  1  8  0\n",
       " 4  5  4  9  0  1  5  9  6  3\n",
       " 0  6  9  2  2  4  9  4  9  4\n",
       " 3  1  4  5  2  8  0  6  4  4\n",
       " 3  2  8  6  9  0  2  6  5  0\n",
       "[torch.ByteTensor of size 10x10]\n",
       "\n"
      ]
     },
     "execution_count": 3,
     "metadata": {},
     "output_type": "execute_result"
    }
   ],
   "source": [
    "require('classrbm')\n",
    "\n",
    "classrbm = torch.load('models/pretrained_rbm_2.dat')\n",
    "\n",
    "class_y = torch.ByteTensor(100)\n",
    "\n",
    "for i=1, 100 do\n",
    "    vt, yt = classrbm:forward{inputs_x[i], torch.zeros(10)}\n",
    "    _, y = torch.max(yt,1)\n",
    "    y = y-1 -- because index from 1\n",
    "    \n",
    "    class_y[i] = y\n",
    "end\n",
    "\n",
    "print(class_y:view(10,10))"
   ]
  },
  {
   "cell_type": "markdown",
   "metadata": {},
   "source": [
    "Sample new digits\n",
    "-----------------"
   ]
  },
  {
   "cell_type": "markdown",
   "metadata": {},
   "source": [
    "It is posible with this architecture http://www.cs.toronto.edu/~hinton/adi."
   ]
  }
 ],
 "metadata": {
  "kernelspec": {
   "display_name": "iTorch",
   "language": "lua",
   "name": "itorch"
  },
  "language_info": {
   "name": "lua",
   "version": "5.1"
  }
 },
 "nbformat": 4,
 "nbformat_minor": 0
}
