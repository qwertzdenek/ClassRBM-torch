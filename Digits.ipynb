{
 "cells": [
  {
   "cell_type": "markdown",
   "metadata": {},
   "source": [
    "Load dataset\n",
    "------------"
   ]
  },
  {
   "cell_type": "code",
   "execution_count": null,
   "metadata": {
    "collapsed": false
   },
   "outputs": [],
   "source": [
    "mnist = require('mnist')\n",
    "\n",
    "torch.seed()\n",
    "\n",
    "testset = mnist.testdataset()\n",
    "testset['data'] = testset['data']:double():clamp(0,1)"
   ]
  },
  {
   "cell_type": "code",
   "execution_count": null,
   "metadata": {
    "collapsed": false
   },
   "outputs": [],
   "source": [
    "inputs_x = torch.Tensor(100, 28*28)\n",
    "inputs_y = torch.ByteTensor(100)\n",
    "for i=1, 100 do\n",
    "    num = torch.random(testset.size)\n",
    "    inputs_x[i]:copy(testset[num].x)\n",
    "    inputs_y[i] = testset[num].y\n",
    "end\n",
    "\n",
    "wm = image.toDisplayTensor{\n",
    "    input=inputs_x:view(torch.LongStorage{100, 28, 28}),\n",
    "    padding=2, nrow=10}\n",
    "itorch.image(wm)"
   ]
  },
  {
   "cell_type": "markdown",
   "metadata": {},
   "source": [
    "Classify\n",
    "--------"
   ]
  },
  {
   "cell_type": "markdown",
   "metadata": {},
   "source": [
    "We will forward classification RBM with zero class vector and do one step Gibbs sampling from the input digit. Resulting digit class is stored to the *class_y*."
   ]
  },
  {
   "cell_type": "code",
   "execution_count": null,
   "metadata": {
    "collapsed": false
   },
   "outputs": [],
   "source": [
    "require('classrbm')\n",
    "\n",
    "classrbm = torch.load('models/pretrained_rbm_2.dat')\n",
    "\n",
    "class_y = torch.ByteTensor(100)\n",
    "\n",
    "for i=1, 100 do\n",
    "    vt, yt = classrbm:forward{inputs_x[i], torch.zeros(10)}\n",
    "    _, y = torch.max(yt,1)\n",
    "    y = y-1 -- because index from 1\n",
    "    \n",
    "    class_y[i] = y\n",
    "end\n",
    "\n",
    "print(class_y:view(10,10))"
   ]
  },
  {
   "cell_type": "markdown",
   "metadata": {},
   "source": [
    "Sample new digits\n",
    "-----------------"
   ]
  },
  {
   "cell_type": "markdown",
   "metadata": {},
   "source": [
    "It is posible with this architecture http://www.cs.toronto.edu/~hinton/adi."
   ]
  }
 ],
 "metadata": {
  "kernelspec": {
   "display_name": "iTorch",
   "language": "lua",
   "name": "itorch"
  },
  "language_info": {
   "name": "lua",
   "version": "5.1"
  }
 },
 "nbformat": 4,
 "nbformat_minor": 0
}
